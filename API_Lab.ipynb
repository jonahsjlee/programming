{
  "nbformat": 4,
  "nbformat_minor": 0,
  "metadata": {
    "colab": {
      "provenance": [],
      "authorship_tag": "ABX9TyPtgb5wUYF+ssHcfjNNn2Zf",
      "include_colab_link": true
    },
    "kernelspec": {
      "name": "python3",
      "display_name": "Python 3"
    },
    "language_info": {
      "name": "python"
    }
  },
  "cells": [
    {
      "cell_type": "markdown",
      "metadata": {
        "id": "view-in-github",
        "colab_type": "text"
      },
      "source": [
        "<a href=\"https://colab.research.google.com/github/jonahsjlee/programming/blob/main/API_Lab.ipynb\" target=\"_parent\"><img src=\"https://colab.research.google.com/assets/colab-badge.svg\" alt=\"Open In Colab\"/></a>"
      ]
    },
    {
      "cell_type": "markdown",
      "source": [
        "Q1 Practice writing query:\n",
        "https://www.saferproducts.gov/RestWebServices/Recall?format=json&RecallID=6029\n"
      ],
      "metadata": {
        "id": "Btq9uhQt7Azm"
      }
    },
    {
      "cell_type": "code",
      "source": [
        "!pip install streamlit"
      ],
      "metadata": {
        "id": "CeooaLRH-xYM"
      },
      "execution_count": null,
      "outputs": []
    },
    {
      "cell_type": "code",
      "execution_count": 1,
      "metadata": {
        "id": "Zd9vVlh13gxb"
      },
      "outputs": [],
      "source": [
        "import urllib.request\n",
        "import json\n",
        "url = 'https://www.saferproducts.gov/RestWebServices/' # Location of the API\n",
        "query = 'Recall?format=json&ProductType=Exercise' # The query\n",
        "response = urllib.request.urlopen(url+query)\n",
        "response_bytes = response.read()\n",
        "data = json.loads(response_bytes) # Convert response to json\n",
        "response.close()"
      ]
    },
    {
      "cell_type": "code",
      "source": [
        "import pandas as pd\n",
        "\n",
        "def flatten_dict_column(df, source_col, target_col, key):\n",
        "    clean_values = []\n",
        "    for items in df[source_col]:\n",
        "        if items:  # checks if the list is not empty\n",
        "            values = [item[key] for item in items if key in item]\n",
        "            clean_values.append(values)\n",
        "        else:\n",
        "            clean_values.append('')\n",
        "    df[target_col] = clean_values\n",
        "\n",
        "# example\n",
        "data = {\n",
        "    'RemedyOptions': [\n",
        "        [{'Option': 'Replace'}, {'Option': 'Refund'}],\n",
        "        [{'Option': 'Repair'}],\n",
        "        []\n",
        "    ]\n",
        "}\n",
        "\n",
        "df = pd.DataFrame(data)\n",
        "flatten_dict_column(df, 'RemedyOptions', 'remedy', 'Option')\n",
        "print(df)\n",
        "\n",
        "\n",
        "import matplotlib.pyplot as plt\n",
        "\n",
        "def plot_option_frequencies(df, column):\n",
        "    all_options = [option for sublist in df[column] if sublist != '' for option in sublist]\n",
        "    option_counts = pd.Series(all_options).value_counts()\n",
        "\n",
        "    option_counts.plot(kind='bar', color='skyblue')\n",
        "    plt.xlabel('Option')\n",
        "    plt.ylabel('Frequency')\n",
        "    plt.title('Frequency of Each Option')\n",
        "    plt.xticks(rotation=45)\n",
        "    plt.show()\n",
        "\n",
        "plot_option_frequencies(df, 'remedy')\n"
      ],
      "metadata": {
        "colab": {
          "base_uri": "https://localhost:8080/",
          "height": 578
        },
        "id": "dHT8_iLD8zTP",
        "outputId": "818e1d75-e36b-47a8-b0dc-3d92deb7c673"
      },
      "execution_count": 6,
      "outputs": [
        {
          "output_type": "stream",
          "name": "stdout",
          "text": [
            "                                   RemedyOptions             remedy\n",
            "0  [{'Option': 'Replace'}, {'Option': 'Refund'}]  [Replace, Refund]\n",
            "1                         [{'Option': 'Repair'}]           [Repair]\n",
            "2                                             []                   \n"
          ]
        },
        {
          "output_type": "display_data",
          "data": {
            "text/plain": [
              "<Figure size 640x480 with 1 Axes>"
            ],
            "image/png": "[encoded data removed]"
          },
          "metadata": {}
        }
      ]
    },
    {
      "cell_type": "code",
      "source": [
        "import pandas as pd\n",
        "import requests\n",
        "import streamlit as st\n",
        "\n",
        "url = 'https://www.saferproducts.gov/RestWebServices/Recall'\n",
        "query = '?format=json&RecallTitle=Gas'\n",
        "header = {'User-Agent': 'Mozilla/5.0 (Windows NT 10.0; Win64; x64; rv:124.0) Gecko/20100101 Firefox/124.0'}\n",
        "\n",
        "raw = requests.get(url+query, headers=header)\n",
        "if raw.status_code == 200:\n",
        "    data = raw.json()\n",
        "    df = pd.DataFrame.from_dict(data)\n",
        "    temp = df['RemedyOptions']\n",
        "    clean_values = []\n",
        "    for i in range(len(temp)):\n",
        "        if len(temp[i])>0:\n",
        "            values = []\n",
        "            for j in range(len(temp[i])):\n",
        "                values.append(temp[i][j]['Option'])\n",
        "            clean_values.append(values)\n",
        "        else:\n",
        "            clean_values.append('')\n",
        "    df['remedy'] = clean_values\n",
        "    remedy_counts = df['remedy'].value_counts()\n",
        "\n",
        "    st.title('Remedy Statistics')\n",
        "    st.write(remedy_counts)\n",
        "\n",
        "else:\n",
        "    st.title('Error')\n",
        "    st.write(f\"Status code: {raw.status_code}\")\n",
        "    st.write(raw.text)\n"
      ],
      "metadata": {
        "colab": {
          "base_uri": "https://localhost:8080/"
        },
        "collapsed": true,
        "id": "duSQq60E9b-Q",
        "outputId": "96e91864-9f04-4668-dc9c-c78501083ef5"
      },
      "execution_count": 13,
      "outputs": [
        {
          "output_type": "stream",
          "name": "stderr",
          "text": [
            "2024-09-22 23:29:08.811 Thread 'MainThread': missing ScriptRunContext! This warning can be ignored when running in bare mode.\n",
            "2024-09-22 23:29:08.813 Thread 'MainThread': missing ScriptRunContext! This warning can be ignored when running in bare mode.\n",
            "2024-09-22 23:29:08.816 Thread 'MainThread': missing ScriptRunContext! This warning can be ignored when running in bare mode.\n",
            "2024-09-22 23:29:08.818 Thread 'MainThread': missing ScriptRunContext! This warning can be ignored when running in bare mode.\n",
            "2024-09-22 23:29:08.821 Thread 'MainThread': missing ScriptRunContext! This warning can be ignored when running in bare mode.\n",
            "2024-09-22 23:29:08.822 Thread 'MainThread': missing ScriptRunContext! This warning can be ignored when running in bare mode.\n",
            "2024-09-22 23:29:08.823 Thread 'MainThread': missing ScriptRunContext! This warning can be ignored when running in bare mode.\n",
            "2024-09-22 23:29:08.827 Thread 'MainThread': missing ScriptRunContext! This warning can be ignored when running in bare mode.\n",
            "2024-09-22 23:29:08.828 Thread 'MainThread': missing ScriptRunContext! This warning can be ignored when running in bare mode.\n",
            "2024-09-22 23:29:08.830 Thread 'MainThread': missing ScriptRunContext! This warning can be ignored when running in bare mode.\n"
          ]
        }
      ]
    },
    {
      "cell_type": "markdown",
      "source": [
        "Q5 Data from restcountries.com"
      ],
      "metadata": {
        "id": "63_iF8oe6L-H"
      }
    },
    {
      "cell_type": "code",
      "source": [
        "import requests\n",
        "import pandas as pd\n",
        "\n",
        "def fetch_data(url):\n",
        "    \"\"\"\n",
        "    Fetch data from the specified EPA API endpoint.\n",
        "    \"\"\"\n",
        "    response = requests.get(url)\n",
        "    if response.status_code == 200:\n",
        "        try:\n",
        "            data = response.json()\n",
        "            return data\n",
        "        except ValueError:\n",
        "            print(\"Error: Unable to decode JSON response.\")\n",
        "            return None\n",
        "    else:\n",
        "        print(\"Error: Received response\", response.status_code)\n",
        "        return None\n",
        "\n",
        "def wrangle_data(data):\n",
        "    \"\"\"\n",
        "    Convert the list of dictionaries into a DataFrame and perform basic data cleaning.\n",
        "    \"\"\"\n",
        "    if data is not None:\n",
        "        df = pd.DataFrame(data)\n",
        "        df.dropna(inplace=True)\n",
        "        print(\"Dataframe head:\\n\", df.head())\n",
        "        return df\n",
        "    else:\n",
        "        return None\n",
        "\n",
        "# Replace 'YOUR_ENDPOINT' with the actual endpoint URL\n",
        "endpoint_url = \"https://restcountries.com/v3.1/all\"\n",
        "data = fetch_data(endpoint_url)\n",
        "df = wrangle_data(data)\n"
      ],
      "metadata": {
        "colab": {
          "base_uri": "https://localhost:8080/"
        },
        "collapsed": true,
        "id": "qzFBrAjZ4TpM",
        "outputId": "7c13047c-9bf2-487d-8702-e30925e894ff"
      },
      "execution_count": 14,
      "outputs": [
        {
          "output_type": "stream",
          "name": "stdout",
          "text": [
            "Dataframe head:\n",
            "                                                  name    tld cca2 ccn3 cca3  \\\n",
            "2   {'common': 'Switzerland', 'official': 'Swiss C...  [.ch]   CH  756  CHE   \n",
            "4   {'common': 'Hungary', 'official': 'Hungary', '...  [.hu]   HU  348  HUN   \n",
            "10  {'common': 'Tunisia', 'official': 'Tunisian Re...  [.tn]   TN  788  TUN   \n",
            "11  {'common': 'Italy', 'official': 'Italian Repub...  [.it]   IT  380  ITA   \n",
            "13  {'common': 'Indonesia', 'official': 'Republic ...  [.id]   ID  360  IDN   \n",
            "\n",
            "   independent               status  unMember  \\\n",
            "2         True  officially-assigned      True   \n",
            "4         True  officially-assigned      True   \n",
            "10        True  officially-assigned      True   \n",
            "11        True  officially-assigned      True   \n",
            "13        True  officially-assigned      True   \n",
            "\n",
            "                                           currencies  \\\n",
            "2   {'CHF': {'name': 'Swiss franc', 'symbol': 'Fr.'}}   \n",
            "4   {'HUF': {'name': 'Hungarian forint', 'symbol':...   \n",
            "10  {'TND': {'name': 'Tunisian dinar', 'symbol': '...   \n",
            "11           {'EUR': {'name': 'Euro', 'symbol': '€'}}   \n",
            "13  {'IDR': {'name': 'Indonesian rupiah', 'symbol'...   \n",
            "\n",
            "                                   idd  ...  \\\n",
            "2    {'root': '+4', 'suffixes': ['1']}  ...   \n",
            "4    {'root': '+3', 'suffixes': ['6']}  ...   \n",
            "10  {'root': '+2', 'suffixes': ['16']}  ...   \n",
            "11   {'root': '+3', 'suffixes': ['9']}  ...   \n",
            "13   {'root': '+6', 'suffixes': ['2']}  ...   \n",
            "\n",
            "                                                flags  \\\n",
            "2   {'png': 'https://flagcdn.com/w320/ch.png', 'sv...   \n",
            "4   {'png': 'https://flagcdn.com/w320/hu.png', 'sv...   \n",
            "10  {'png': 'https://flagcdn.com/w320/tn.png', 'sv...   \n",
            "11  {'png': 'https://flagcdn.com/w320/it.png', 'sv...   \n",
            "13  {'png': 'https://flagcdn.com/w320/id.png', 'sv...   \n",
            "\n",
            "                                           coatOfArms startOfWeek  \\\n",
            "2   {'png': 'https://mainfacts.com/media/images/co...      monday   \n",
            "4   {'png': 'https://mainfacts.com/media/images/co...      monday   \n",
            "10  {'png': 'https://mainfacts.com/media/images/co...      monday   \n",
            "11  {'png': 'https://mainfacts.com/media/images/co...      monday   \n",
            "13  {'png': 'https://mainfacts.com/media/images/co...      monday   \n",
            "\n",
            "                    capitalInfo cioc           subregion  fifa  \\\n",
            "2     {'latlng': [46.92, 7.47]}  SUI      Western Europe   SUI   \n",
            "4     {'latlng': [47.5, 19.08]}  HUN      Central Europe   HUN   \n",
            "10    {'latlng': [36.8, 10.18]}  TUN     Northern Africa   TUN   \n",
            "11    {'latlng': [41.9, 12.48]}  ITA     Southern Europe   ITA   \n",
            "13  {'latlng': [-6.17, 106.82]}  INA  South-Eastern Asia   IDN   \n",
            "\n",
            "                                borders            gini  \\\n",
            "2             [AUT, FRA, ITA, LIE, DEU]  {'2018': 33.1}   \n",
            "4   [AUT, HRV, ROU, SRB, SVK, SVN, UKR]  {'2018': 29.6}   \n",
            "10                           [DZA, LBY]  {'2015': 32.8}   \n",
            "11       [AUT, FRA, SMR, SVN, CHE, VAT]  {'2017': 35.9}   \n",
            "13                      [TLS, MYS, PNG]  {'2019': 38.2}   \n",
            "\n",
            "                                   postalCode  \n",
            "2    {'format': '####', 'regex': '^(\\d{4})$'}  \n",
            "4    {'format': '####', 'regex': '^(\\d{4})$'}  \n",
            "10   {'format': '####', 'regex': '^(\\d{4})$'}  \n",
            "11  {'format': '#####', 'regex': '^(\\d{5})$'}  \n",
            "13  {'format': '#####', 'regex': '^(\\d{5})$'}  \n",
            "\n",
            "[5 rows x 35 columns]\n"
          ]
        }
      ]
    }
  ]
}